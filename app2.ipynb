{
 "metadata": {
  "language_info": {
   "codemirror_mode": {
    "name": "ipython",
    "version": 3
   },
   "file_extension": ".py",
   "mimetype": "text/x-python",
   "name": "python",
   "nbconvert_exporter": "python",
   "pygments_lexer": "ipython3",
   "version": "3.9.5"
  },
  "orig_nbformat": 4,
  "kernelspec": {
   "name": "python3",
   "display_name": "Python 3.9.5 64-bit"
  },
  "interpreter": {
   "hash": "b61a544ff4ad338ef046539e9c655dc071d667708243a0322ba326c69b4495d1"
  }
 },
 "nbformat": 4,
 "nbformat_minor": 2,
 "cells": [
  {
   "cell_type": "code",
   "execution_count": 6,
   "metadata": {},
   "outputs": [
    {
     "output_type": "stream",
     "name": "stdout",
     "text": [
      "invalid number\n"
     ]
    }
   ],
   "source": [
    "def fibonacci(x):\n",
    "    fib = [1,2]\n",
    "    if x < 0:\n",
    "        return \"invalid number\"\n",
    "    elif x < len(fib):\n",
    "        return fib[x-1]\n",
    "    i = 2\n",
    "    while x > len(fib):\n",
    "        fib.append(fib[i - 2] + fib[i - 1])\n",
    "        i += 1\n",
    "    return fib[x-1]\n",
    "\n",
    "y = int(input(\"Enter a number : \"))\n",
    "print(fibonacci(y))"
   ]
  },
  {
   "cell_type": "code",
   "execution_count": null,
   "metadata": {},
   "outputs": [],
   "source": []
  }
 ]
}